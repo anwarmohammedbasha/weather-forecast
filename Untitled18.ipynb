{
  "nbformat": 4,
  "nbformat_minor": 0,
  "metadata": {
    "colab": {
      "name": "Untitled18.ipynb",
      "provenance": []
    },
    "kernelspec": {
      "name": "python3",
      "display_name": "Python 3"
    },
    "language_info": {
      "name": "python"
    }
  },
  "cells": [
    {
      "cell_type": "code",
      "metadata": {
        "id": "D598oB-u__ng"
      },
      "source": [
        "import pandas as pd\n",
        "from statsmodels.tsa.arima_model import ARIMA\n",
        "\n",
        "\n",
        "cols = ['name', 'localtime', 'temp_c']\n",
        "df = pd.read_csv('/content/weather_data.csv', usecols=cols, parse_dates=True)\n",
        "df = df.loc[df['name'] == \"Chennai\", ['localtime', 'temp_c']]\n",
        "df.set_index(['localtime'], inplace=True)\n",
        "df.dropna(inplace=True)\n",
        "\n",
        "train = df[:200]\n",
        "test = df[200:]"
      ],
      "execution_count": 14,
      "outputs": []
    },
    {
      "cell_type": "code",
      "metadata": {
        "colab": {
          "base_uri": "https://localhost:8080/"
        },
        "id": "z-dynuOIAd_e",
        "outputId": "c15ab15a-69ef-4730-b228-17cdf37103bc"
      },
      "source": [
        "model = ARIMA(df, order=(5,1,0))\n"
      ],
      "execution_count": 36,
      "outputs": [
        {
          "output_type": "stream",
          "name": "stderr",
          "text": [
            "/usr/local/lib/python3.7/dist-packages/statsmodels/tsa/base/tsa_model.py:219: ValueWarning: A date index has been provided, but it has no associated frequency information and so will be ignored when e.g. forecasting.\n",
            "  ' ignored when e.g. forecasting.', ValueWarning)\n",
            "/usr/local/lib/python3.7/dist-packages/statsmodels/tsa/base/tsa_model.py:219: ValueWarning: A date index has been provided, but it has no associated frequency information and so will be ignored when e.g. forecasting.\n",
            "  ' ignored when e.g. forecasting.', ValueWarning)\n"
          ]
        }
      ]
    },
    {
      "cell_type": "code",
      "metadata": {
        "id": "_J0Uf1imAjS9"
      },
      "source": [
        "fit = model.fit()\n"
      ],
      "execution_count": 37,
      "outputs": []
    },
    {
      "cell_type": "code",
      "metadata": {
        "id": "Vig8CvS4B7DO"
      },
      "source": [
        "forecast = round(fit.forecast(steps=1)[0][0],0)"
      ],
      "execution_count": 38,
      "outputs": []
    },
    {
      "cell_type": "code",
      "metadata": {
        "colab": {
          "base_uri": "https://localhost:8080/"
        },
        "id": "VMl4qy9ADRfm",
        "outputId": "3d5182b4-6d8a-4bd1-a323-8ad908d5f6eb"
      },
      "source": [
        "forecast"
      ],
      "execution_count": 39,
      "outputs": [
        {
          "output_type": "execute_result",
          "data": {
            "text/plain": [
              "29.0"
            ]
          },
          "metadata": {},
          "execution_count": 39
        }
      ]
    },
    {
      "cell_type": "code",
      "metadata": {
        "colab": {
          "base_uri": "https://localhost:8080/"
        },
        "id": "3pFSZBTpDVAW",
        "outputId": "40afdb6d-7a8d-4dd9-bc06-b911a35f138a"
      },
      "source": [
        "cols = ['name', 'localtime', 'temp_c']\n",
        "df = pd.read_csv('/content/weather_data.csv', usecols=cols, parse_dates=True)\n",
        "df = df.loc[df['name'] == \"Chennai\", ['localtime', 'temp_c']]\n",
        "df.set_index(['localtime'], inplace=True)\n",
        "df.dropna(inplace=True)\n",
        "model = ARIMA(df, order=(5,1,0))\n",
        "model_fit = model.fit()\n",
        "forecast = round(model_fit.forecast(steps=1)[0][0],0)"
      ],
      "execution_count": 41,
      "outputs": [
        {
          "output_type": "stream",
          "name": "stderr",
          "text": [
            "/usr/local/lib/python3.7/dist-packages/statsmodels/tsa/base/tsa_model.py:219: ValueWarning: A date index has been provided, but it has no associated frequency information and so will be ignored when e.g. forecasting.\n",
            "  ' ignored when e.g. forecasting.', ValueWarning)\n",
            "/usr/local/lib/python3.7/dist-packages/statsmodels/tsa/base/tsa_model.py:219: ValueWarning: A date index has been provided, but it has no associated frequency information and so will be ignored when e.g. forecasting.\n",
            "  ' ignored when e.g. forecasting.', ValueWarning)\n"
          ]
        }
      ]
    },
    {
      "cell_type": "code",
      "metadata": {
        "colab": {
          "base_uri": "https://localhost:8080/"
        },
        "id": "T73ILatsFESP",
        "outputId": "c024bad0-f2ef-4f5e-c59c-484ba451be88"
      },
      "source": [
        "forecast \n"
      ],
      "execution_count": 42,
      "outputs": [
        {
          "output_type": "execute_result",
          "data": {
            "text/plain": [
              "29.0"
            ]
          },
          "metadata": {},
          "execution_count": 42
        }
      ]
    },
    {
      "cell_type": "code",
      "metadata": {
        "id": "L8XMs37MFPKW"
      },
      "source": [
        ""
      ],
      "execution_count": null,
      "outputs": []
    }
  ]
}